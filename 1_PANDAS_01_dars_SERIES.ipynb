{
  "cells": [
    {
      "cell_type": "markdown",
      "metadata": {
        "id": "view-in-github",
        "colab_type": "text"
      },
      "source": [
        "<a href=\"https://colab.research.google.com/github/Temur0122/Pandas_tutorial/blob/main/1_PANDAS_01_dars_SERIES.ipynb\" target=\"_parent\"><img src=\"https://colab.research.google.com/assets/colab-badge.svg\" alt=\"Open In Colab\"/></a>"
      ]
    },
    {
      "cell_type": "markdown",
      "id": "034e315b",
      "metadata": {
        "id": "034e315b"
      },
      "source": [
        "![Imgur](https://i.imgur.com/5pXzCIu.png)\n",
        "\n",
        "# Data Science va Sun'iy Intellekt Praktikum\n",
        "\n",
        "## Ma'lumotlar tahlili. Pandas kutubxonasi.\n",
        "\n",
        "### 2.2 Pandas kutubxonasi bilan tanishuv\n",
        "\n",
        "`pandas` kutubxonasi ma'lumotlar muhandisining eng muhim ish quroli hisoblanadi. Data Science loyihalar ustida ishlar ekanmiz, 90% amallar aynan pandas yordamida amalga oshiriladi. `pandas` o'zining maxsus ma'lumotlar tuzilmalariga ega va bu tuzilmalar ma'lumotlarga ishlov berish, tozalash va boshqa amllarni bir necha barobar osonlashtiradi.\n",
        "\n",
        "Avvalgi bo'limda ko'rilgan `numpy` kutubxonasidan farqli ravishda, `pandas` kutubxonasi faqatgina sonlardan iborat massivlar bilan emas, balki turli ko'rinishdagi ma'lumotlardan iborat jadvallar bilan ishlashga moslashgan."
      ]
    },
    {
      "cell_type": "markdown",
      "id": "8211f25f",
      "metadata": {
        "id": "8211f25f"
      },
      "source": [
        "### Kutubxonani chaqiramiz\n",
        "\n",
        "Oson bo'lishi uchun `pandas` kutubxonasini `pd` deb chaqirib olish urf bo'lgan."
      ]
    },
    {
      "cell_type": "code",
      "execution_count": null,
      "id": "5b0ccbd9",
      "metadata": {
        "id": "5b0ccbd9"
      },
      "outputs": [],
      "source": [
        "import pandas as pd\n",
        "import numpy as np"
      ]
    },
    {
      "cell_type": "markdown",
      "id": "c73942a4",
      "metadata": {
        "id": "c73942a4"
      },
      "source": [
        "## `pandas` tarkibidagi ma'lumotlar tuzilmalari\n",
        "\n",
        "pandas ikkita juda muhim va deyalri barcha loyihalar uchun mos tushuvchi Series va DataFrame ma'lumotlar tuzilamalariga ega. Keling ular bilan yaqindan tanishamiz.\n",
        "\n",
        "Boshlanishiga bu ikki tuzilmalarni ham dasturimizga chaqirib olaylik."
      ]
    },
    {
      "cell_type": "code",
      "execution_count": null,
      "id": "a543bf7d",
      "metadata": {
        "id": "a543bf7d"
      },
      "outputs": [],
      "source": [
        "from pandas import Series, DataFrame as df # DataFrameni qisqacha qilib df deb chariqib oldik"
      ]
    },
    {
      "cell_type": "markdown",
      "id": "8d88ccbd",
      "metadata": {
        "id": "8d88ccbd"
      },
      "source": [
        "### 2.2.1 `Series`\n",
        "\n",
        "`Series` bir o'lchovli massivga o'xshash ma'lumotlar tuzilmasi bo'lib qiymatlar va ularga mos keluvchi indekslardan iborat bo'ladi.\n",
        "\n",
        "Eng sodda ko'rinishda `Series` ma'lumotlar massividan iborat bo'ladi."
      ]
    },
    {
      "cell_type": "code",
      "execution_count": null,
      "id": "7cbe335d",
      "metadata": {
        "id": "7cbe335d"
      },
      "outputs": [],
      "source": [
        "obj = Series([4, 5, -7, 3.2])"
      ]
    },
    {
      "cell_type": "code",
      "execution_count": null,
      "id": "3bafadcc",
      "metadata": {
        "id": "3bafadcc",
        "outputId": "572b150a-2bb8-474f-cc50-0a44b00b6369"
      },
      "outputs": [
        {
          "data": {
            "text/plain": [
              "0    4.0\n",
              "1    5.0\n",
              "2   -7.0\n",
              "3    3.2\n",
              "dtype: float64"
            ]
          },
          "execution_count": 5,
          "metadata": {},
          "output_type": "execute_result"
        }
      ],
      "source": [
        "obj"
      ]
    },
    {
      "cell_type": "markdown",
      "id": "81e157e1",
      "metadata": {
        "id": "81e157e1"
      },
      "source": [
        "Konsolga chop etganda ,`Series` yuqoridagi kabi indekslar (chap ustun) va qiymatlar (o'ng ustun) ko'rinishida chiqadi.\n",
        "`Series` obyektini yaratsihda indekslarni bermaganimiz sababli indekslar `0` dan `N-1` gacha qiymatlarni oladi (`N` ma'lumotlar uzunligi).\n",
        "\n",
        "`Series` obyekti index va qiymatlarini alohida ajratib ko'rishimiz ham mumkin."
      ]
    },
    {
      "cell_type": "code",
      "execution_count": null,
      "id": "78c31c02",
      "metadata": {
        "id": "78c31c02",
        "outputId": "1d6083da-c8ca-471f-c1c8-c028dcacfaf2"
      },
      "outputs": [
        {
          "data": {
            "text/plain": [
              "array([ 4. ,  5. , -7. ,  3.2])"
            ]
          },
          "execution_count": 6,
          "metadata": {},
          "output_type": "execute_result"
        }
      ],
      "source": [
        "obj.values # qiymatlar"
      ]
    },
    {
      "cell_type": "code",
      "execution_count": null,
      "id": "175bf75c",
      "metadata": {
        "id": "175bf75c",
        "outputId": "94c1f299-0051-4813-fe0d-07173860c95b"
      },
      "outputs": [
        {
          "data": {
            "text/plain": [
              "RangeIndex(start=0, stop=4, step=1)"
            ]
          },
          "execution_count": 7,
          "metadata": {},
          "output_type": "execute_result"
        }
      ],
      "source": [
        "obj.index # indekslar"
      ]
    },
    {
      "cell_type": "markdown",
      "id": "2367f3a6",
      "metadata": {
        "id": "2367f3a6"
      },
      "source": [
        "Qiymatlarga indeks orqali murojaat qilish mumkin."
      ]
    },
    {
      "cell_type": "code",
      "execution_count": null,
      "id": "b5f547ad",
      "metadata": {
        "id": "b5f547ad",
        "outputId": "127d678e-a8d4-4f20-b32d-5d2a04d5dcb0"
      },
      "outputs": [
        {
          "data": {
            "text/plain": [
              "4.0"
            ]
          },
          "execution_count": 13,
          "metadata": {},
          "output_type": "execute_result"
        }
      ],
      "source": [
        "obj[0] # birinchi element"
      ]
    },
    {
      "cell_type": "code",
      "execution_count": null,
      "id": "3e9d806e",
      "metadata": {
        "id": "3e9d806e",
        "outputId": "d91f979c-26b0-4dc0-8a0a-79e5bb6e3304"
      },
      "outputs": [
        {
          "data": {
            "text/plain": [
              "3.2"
            ]
          },
          "execution_count": 17,
          "metadata": {},
          "output_type": "execute_result"
        }
      ],
      "source": [
        "obj[3]"
      ]
    },
    {
      "cell_type": "markdown",
      "id": "140e5f2b",
      "metadata": {
        "id": "140e5f2b"
      },
      "source": [
        "`Series` obyektini yaratishda indekslarga o'zimiz ham nom berishimiz mumkin"
      ]
    },
    {
      "cell_type": "code",
      "execution_count": null,
      "id": "9faa330a",
      "metadata": {
        "id": "9faa330a"
      },
      "outputs": [],
      "source": [
        "obj2 = Series([4, 5, -7, 3.2], index=['a','b','c','d']) # bu yerda indekslarga alifbo harflarini berdik."
      ]
    },
    {
      "cell_type": "code",
      "execution_count": null,
      "id": "beac19c7",
      "metadata": {
        "id": "beac19c7",
        "outputId": "48936932-2218-4739-dd15-12866dea967d"
      },
      "outputs": [
        {
          "data": {
            "text/plain": [
              "a    4.0\n",
              "b    5.0\n",
              "c   -7.0\n",
              "d    3.2\n",
              "dtype: float64"
            ]
          },
          "execution_count": 9,
          "metadata": {},
          "output_type": "execute_result"
        }
      ],
      "source": [
        "obj2"
      ]
    },
    {
      "cell_type": "code",
      "execution_count": null,
      "id": "5aa9cb88",
      "metadata": {
        "id": "5aa9cb88",
        "outputId": "214b13f7-b952-4da7-8abc-9c17ed526b52"
      },
      "outputs": [
        {
          "data": {
            "text/plain": [
              "Index(['a', 'b', 'c', 'd'], dtype='object')"
            ]
          },
          "execution_count": 10,
          "metadata": {},
          "output_type": "execute_result"
        }
      ],
      "source": [
        "obj2.index"
      ]
    },
    {
      "cell_type": "markdown",
      "id": "43be3341",
      "metadata": {
        "id": "43be3341"
      },
      "source": [
        "Obyekt ichidagi qiymatlarga esa yana indeks orqali murojaat qilamiz:"
      ]
    },
    {
      "cell_type": "code",
      "execution_count": null,
      "id": "43de675d",
      "metadata": {
        "id": "43de675d",
        "outputId": "7847176b-2b0e-4932-903f-664d3fbed6c0"
      },
      "outputs": [
        {
          "data": {
            "text/plain": [
              "4.0"
            ]
          },
          "execution_count": 12,
          "metadata": {},
          "output_type": "execute_result"
        }
      ],
      "source": [
        "obj2['a']"
      ]
    },
    {
      "cell_type": "code",
      "execution_count": null,
      "id": "63865e7c",
      "metadata": {
        "id": "63865e7c"
      },
      "outputs": [],
      "source": [
        "obj2['a']=4.5"
      ]
    },
    {
      "cell_type": "code",
      "execution_count": null,
      "id": "4a413744",
      "metadata": {
        "id": "4a413744",
        "outputId": "c78cb1b3-f95c-449b-ecbe-642fd66206d6"
      },
      "outputs": [
        {
          "data": {
            "text/plain": [
              "a    4.5\n",
              "b    5.0\n",
              "c   -7.0\n",
              "d    3.2\n",
              "dtype: float64"
            ]
          },
          "execution_count": 48,
          "metadata": {},
          "output_type": "execute_result"
        }
      ],
      "source": [
        "obj2"
      ]
    },
    {
      "cell_type": "markdown",
      "id": "bab2c845",
      "metadata": {
        "id": "bab2c845"
      },
      "source": [
        "Yangi qiymat qo'shish:"
      ]
    },
    {
      "cell_type": "code",
      "execution_count": null,
      "id": "cdd471d4",
      "metadata": {
        "id": "cdd471d4"
      },
      "outputs": [],
      "source": [
        "obj2['e']=5"
      ]
    },
    {
      "cell_type": "code",
      "execution_count": null,
      "id": "c34c0ec5",
      "metadata": {
        "id": "c34c0ec5",
        "outputId": "e9bf1796-af33-418d-bdd6-2b513d3f7fb5"
      },
      "outputs": [
        {
          "data": {
            "text/plain": [
              "a    4.5\n",
              "b    5.0\n",
              "c   -7.0\n",
              "d    3.2\n",
              "e    5.0\n",
              "dtype: float64"
            ]
          },
          "execution_count": 51,
          "metadata": {},
          "output_type": "execute_result"
        }
      ],
      "source": [
        "obj2"
      ]
    },
    {
      "cell_type": "markdown",
      "id": "5862e186",
      "metadata": {
        "id": "5862e186"
      },
      "source": [
        "Birdaniga bir nechta qiymatlarni olish:"
      ]
    },
    {
      "cell_type": "code",
      "execution_count": null,
      "id": "3a59ef9e",
      "metadata": {
        "id": "3a59ef9e",
        "outputId": "032ebf93-eac7-4e9a-b7ba-d3a516e625b8"
      },
      "outputs": [
        {
          "data": {
            "text/plain": [
              "a    4.5\n",
              "c   -7.0\n",
              "e    5.0\n",
              "dtype: float64"
            ]
          },
          "execution_count": 52,
          "metadata": {},
          "output_type": "execute_result"
        }
      ],
      "source": [
        "obj2[['a','c','e']]"
      ]
    },
    {
      "cell_type": "markdown",
      "id": "62ad79f0",
      "metadata": {
        "id": "62ad79f0"
      },
      "source": [
        "`Series` obyekti ustida arifmetik amallar bajarishda indekslar saqlanib qoladi"
      ]
    },
    {
      "cell_type": "code",
      "execution_count": null,
      "id": "e300b78e",
      "metadata": {
        "id": "e300b78e",
        "outputId": "c31940f7-e276-4513-b250-3917e733e085"
      },
      "outputs": [
        {
          "data": {
            "text/plain": [
              "a    4.0\n",
              "b    5.0\n",
              "d    3.2\n",
              "dtype: float64"
            ]
          },
          "execution_count": 19,
          "metadata": {},
          "output_type": "execute_result"
        }
      ],
      "source": [
        "obj2[obj2>0]"
      ]
    },
    {
      "cell_type": "code",
      "execution_count": null,
      "id": "293ecf62",
      "metadata": {
        "id": "293ecf62",
        "outputId": "e43bdeac-4f57-4de5-da1a-977d5e1e0968"
      },
      "outputs": [
        {
          "data": {
            "text/plain": [
              "a     8.0\n",
              "b    10.0\n",
              "c   -14.0\n",
              "d     6.4\n",
              "dtype: float64"
            ]
          },
          "execution_count": 20,
          "metadata": {},
          "output_type": "execute_result"
        }
      ],
      "source": [
        "obj2*2"
      ]
    },
    {
      "cell_type": "code",
      "execution_count": null,
      "id": "e305c453",
      "metadata": {
        "id": "e305c453",
        "outputId": "63621ee9-c7bd-4217-c1b5-f8c8849f0d86"
      },
      "outputs": [
        {
          "data": {
            "text/plain": [
              "a     54.598150\n",
              "b    148.413159\n",
              "c      0.000912\n",
              "d     24.532530\n",
              "dtype: float64"
            ]
          },
          "execution_count": 22,
          "metadata": {},
          "output_type": "execute_result"
        }
      ],
      "source": [
        "np.exp(obj2)"
      ]
    },
    {
      "cell_type": "markdown",
      "id": "9e1883b4",
      "metadata": {
        "id": "9e1883b4"
      },
      "source": [
        "`Series` obyektini Pythondagi lug'at (dictionary) ma'lumot turiga ham o'xshatish mumkin. Yodingizda bo'lsa lug'at elementlari ham 2 qismdan, kalit va qiymatdan iborat edi.\n",
        "\n",
        "O'rni kelganda bu turdagi obyektlardan lug'atdan foydalangandek ham foydalanish mumkin:"
      ]
    },
    {
      "cell_type": "code",
      "execution_count": null,
      "id": "4965d6f3",
      "metadata": {
        "id": "4965d6f3",
        "outputId": "a9afeb19-2753-4cbf-eaf4-99df276a65cd"
      },
      "outputs": [
        {
          "data": {
            "text/plain": [
              "True"
            ]
          },
          "execution_count": 94,
          "metadata": {},
          "output_type": "execute_result"
        }
      ],
      "source": [
        "'b' in obj2"
      ]
    },
    {
      "cell_type": "code",
      "execution_count": null,
      "id": "5ff5aa83",
      "metadata": {
        "id": "5ff5aa83",
        "outputId": "04440732-03bf-4fa1-badb-3fcb0bfa7b16"
      },
      "outputs": [
        {
          "data": {
            "text/plain": [
              "False"
            ]
          },
          "execution_count": 24,
          "metadata": {},
          "output_type": "execute_result"
        }
      ],
      "source": [
        "'x' in obj2"
      ]
    },
    {
      "cell_type": "markdown",
      "id": "69800b4e",
      "metadata": {
        "id": "69800b4e"
      },
      "source": [
        "Lug'atdan `Series` obyektini yaratish ham juda oson:"
      ]
    },
    {
      "cell_type": "code",
      "execution_count": null,
      "id": "80b4c570",
      "metadata": {
        "id": "80b4c570"
      },
      "outputs": [],
      "source": [
        "cars_dict = {'Malibu':40000, 'Lacetti':20000, 'Toyota':45000, 'Mazda':52000, 'Honda':38000} # bu lug'at"
      ]
    },
    {
      "cell_type": "code",
      "execution_count": null,
      "id": "caeb485a",
      "metadata": {
        "id": "caeb485a"
      },
      "outputs": [],
      "source": [
        "salon1 = Series(cars_dict) # lug'atdan Sereis yaratamiz"
      ]
    },
    {
      "cell_type": "code",
      "execution_count": null,
      "id": "7986df89",
      "metadata": {
        "id": "7986df89",
        "outputId": "2e3d374b-48a8-4249-a7df-1db7e9a649ce"
      },
      "outputs": [
        {
          "data": {
            "text/plain": [
              "Malibu     40000\n",
              "Lacetti    20000\n",
              "Toyota     45000\n",
              "Mazda      52000\n",
              "Honda      38000\n",
              "dtype: int64"
            ]
          },
          "execution_count": 98,
          "metadata": {},
          "output_type": "execute_result"
        }
      ],
      "source": [
        "salon1"
      ]
    },
    {
      "cell_type": "code",
      "execution_count": null,
      "id": "675dc4ea",
      "metadata": {
        "id": "675dc4ea",
        "outputId": "aba6c272-23d6-449e-8e81-e9c738002ee2"
      },
      "outputs": [
        {
          "data": {
            "text/plain": [
              "38000"
            ]
          },
          "execution_count": 99,
          "metadata": {},
          "output_type": "execute_result"
        }
      ],
      "source": [
        "salon1['Honda']"
      ]
    },
    {
      "cell_type": "markdown",
      "id": "ed32445c",
      "metadata": {
        "id": "ed32445c"
      },
      "source": [
        "Lug'atdan `Series` yaratishda yangi elementlar indeksi lug'atda berilgan ketma-ketlikda bo'ladi. Bu ketma-ketlikni biz avvaldan ro'yxat ko'rinishida ham berishimiz mumkin."
      ]
    },
    {
      "cell_type": "code",
      "execution_count": null,
      "id": "75ba0338",
      "metadata": {
        "id": "75ba0338"
      },
      "outputs": [],
      "source": [
        "models = ['Honda','Mazda','Lacetti','Jaguar','Malibu','Toyota'] # buyerda bitta qo'shimcha model bor"
      ]
    },
    {
      "cell_type": "markdown",
      "id": "36d73f52",
      "metadata": {
        "id": "36d73f52"
      },
      "source": [
        "Ahamiyat bering, `viloyatlar` ro'yxatida qo'shimcha `Buxoro` elemtni ham bor, `Series` elementi yaratilganda ro'yxtada mavjud bo'lmagan qiymatlar o'rniga `NaN` (Not a number, son emas) qiymati qo'yib ketiladi."
      ]
    },
    {
      "cell_type": "code",
      "execution_count": null,
      "id": "9f97a253",
      "metadata": {
        "id": "9f97a253"
      },
      "outputs": [],
      "source": [
        "salon2 = Series(cars_dict, index=models)"
      ]
    },
    {
      "cell_type": "code",
      "execution_count": null,
      "id": "a955010c",
      "metadata": {
        "id": "a955010c",
        "outputId": "7a205ac0-6e7f-4b72-f46e-4e48340c0d3f"
      },
      "outputs": [
        {
          "data": {
            "text/plain": [
              "Honda      38000.0\n",
              "Mazda      52000.0\n",
              "Lacetti    20000.0\n",
              "Jaguar         NaN\n",
              "Malibu     40000.0\n",
              "Toyota     45000.0\n",
              "dtype: float64"
            ]
          },
          "execution_count": 115,
          "metadata": {},
          "output_type": "execute_result"
        }
      ],
      "source": [
        "salon2"
      ]
    },
    {
      "cell_type": "markdown",
      "id": "e5855406",
      "metadata": {
        "id": "e5855406"
      },
      "source": [
        "Keyinchalik, ma'lumotlar bilan ishlaganda `NaN` qiymatlarni ajratish muhim ahamiyatga ega. Buning uchun `Series` obyekti bir maxsus metodlarga ega:"
      ]
    },
    {
      "cell_type": "code",
      "execution_count": null,
      "id": "8c0d2048",
      "metadata": {
        "id": "8c0d2048",
        "outputId": "6508990d-0dff-40d7-f52e-a2ecc4a8ce1d"
      },
      "outputs": [
        {
          "data": {
            "text/plain": [
              "Honda      False\n",
              "Mazda      False\n",
              "Lacetti    False\n",
              "Jaguar      True\n",
              "Malibu     False\n",
              "Toyota     False\n",
              "dtype: bool"
            ]
          },
          "execution_count": 116,
          "metadata": {},
          "output_type": "execute_result"
        }
      ],
      "source": [
        "salon2.isnull() # qiymat null (mavjud emasligini) tekshirish uchun"
      ]
    },
    {
      "cell_type": "code",
      "execution_count": null,
      "id": "0337db34",
      "metadata": {
        "id": "0337db34",
        "outputId": "51e13f42-8a86-4b39-daac-0fb456497046"
      },
      "outputs": [
        {
          "data": {
            "text/plain": [
              "Honda       True\n",
              "Mazda       True\n",
              "Lacetti     True\n",
              "Jaguar     False\n",
              "Malibu      True\n",
              "Toyota      True\n",
              "dtype: bool"
            ]
          },
          "execution_count": 117,
          "metadata": {},
          "output_type": "execute_result"
        }
      ],
      "source": [
        "salon2.notnull() # qiymat null emasligini (mavjudligini) tekshirish uchun"
      ]
    },
    {
      "cell_type": "markdown",
      "id": "bd8cb678",
      "metadata": {
        "id": "bd8cb678"
      },
      "source": [
        "`Series` obyektining muhim jihatlaridan biri, ikkita `series` obyektini qo'shishda (ayirishda) qiymatlar indeks bo'yicha qo'shiladi."
      ]
    },
    {
      "cell_type": "code",
      "execution_count": null,
      "id": "b117c771",
      "metadata": {
        "id": "b117c771",
        "outputId": "c59fbd7b-520a-465c-f685-db69ee8d2017"
      },
      "outputs": [
        {
          "data": {
            "text/plain": [
              "Honda      38000.0\n",
              "Mazda      52000.0\n",
              "Lacetti    20000.0\n",
              "Jaguar         NaN\n",
              "Malibu     40000.0\n",
              "Toyota     45000.0\n",
              "dtype: float64"
            ]
          },
          "execution_count": 118,
          "metadata": {},
          "output_type": "execute_result"
        }
      ],
      "source": [
        "salon2"
      ]
    },
    {
      "cell_type": "code",
      "execution_count": null,
      "id": "f39d6df2",
      "metadata": {
        "id": "f39d6df2"
      },
      "outputs": [],
      "source": [
        "# 'Honda','Mazda','Lacetti','Jaguar','Malibu','Toyota'\n",
        "new_prices = Series({\"Honda\":5000, \"Mazda\":-3000, \"Malibu\":4500, \"Toyota\":5200, 'Lacetti':-1200})"
      ]
    },
    {
      "cell_type": "code",
      "execution_count": null,
      "id": "2c0d0a51",
      "metadata": {
        "id": "2c0d0a51",
        "outputId": "8568b44e-a737-41e6-a866-738e6522ad4f"
      },
      "outputs": [
        {
          "data": {
            "text/plain": [
              "Honda      5000\n",
              "Mazda     -3000\n",
              "Malibu     4500\n",
              "Toyota     5200\n",
              "Lacetti   -1200\n",
              "dtype: int64"
            ]
          },
          "execution_count": 129,
          "metadata": {},
          "output_type": "execute_result"
        }
      ],
      "source": [
        "new_prices"
      ]
    },
    {
      "cell_type": "code",
      "execution_count": null,
      "id": "c0b9173b",
      "metadata": {
        "id": "c0b9173b",
        "outputId": "66ce5637-2034-4603-af5c-3ab479ae5059"
      },
      "outputs": [
        {
          "data": {
            "text/plain": [
              "Honda      43000.0\n",
              "Jaguar         NaN\n",
              "Lacetti    18800.0\n",
              "Malibu     44500.0\n",
              "Mazda      49000.0\n",
              "Toyota     50200.0\n",
              "dtype: float64"
            ]
          },
          "execution_count": 130,
          "metadata": {},
          "output_type": "execute_result"
        }
      ],
      "source": [
        "salon2+new_prices"
      ]
    },
    {
      "cell_type": "markdown",
      "id": "484e452f",
      "metadata": {
        "id": "484e452f"
      },
      "source": [
        "`Series` obyektining o'zini ham indekslarini ham nomlash mumkin:"
      ]
    },
    {
      "cell_type": "code",
      "execution_count": null,
      "id": "744f8738",
      "metadata": {
        "id": "744f8738"
      },
      "outputs": [],
      "source": [
        "salon2.name = 'Avtosalon'"
      ]
    },
    {
      "cell_type": "code",
      "execution_count": null,
      "id": "c5314005",
      "metadata": {
        "id": "c5314005"
      },
      "outputs": [],
      "source": [
        "salon2.index.name = 'Car Model'"
      ]
    },
    {
      "cell_type": "code",
      "execution_count": null,
      "id": "e5eeedbb",
      "metadata": {
        "id": "e5eeedbb",
        "outputId": "ca7e00d6-354a-4da2-db98-852bd339fca8"
      },
      "outputs": [
        {
          "data": {
            "text/plain": [
              "Car Model\n",
              "Honda      38000.0\n",
              "Mazda      52000.0\n",
              "Lacetti    20000.0\n",
              "Jaguar         NaN\n",
              "Malibu     40000.0\n",
              "Toyota     45000.0\n",
              "Name: Avtosalon, dtype: float64"
            ]
          },
          "execution_count": 140,
          "metadata": {},
          "output_type": "execute_result"
        }
      ],
      "source": [
        "salon2"
      ]
    },
    {
      "cell_type": "code",
      "execution_count": null,
      "id": "7882e172",
      "metadata": {
        "id": "7882e172",
        "outputId": "d0e8334b-de81-415e-8d71-dc05c1d0b95e"
      },
      "outputs": [
        {
          "data": {
            "text/plain": [
              "'Avtosalon'"
            ]
          },
          "execution_count": 141,
          "metadata": {},
          "output_type": "execute_result"
        }
      ],
      "source": [
        "salon2.name"
      ]
    },
    {
      "cell_type": "markdown",
      "id": "51ca624d",
      "metadata": {
        "id": "51ca624d"
      },
      "source": [
        "## `Series` obyektiga oid ba'zi parametrlar va metodlar"
      ]
    },
    {
      "cell_type": "code",
      "execution_count": null,
      "id": "56a96c8c",
      "metadata": {
        "id": "56a96c8c",
        "outputId": "301d23a4-32a9-4097-c213-ffd43dbf96cc"
      },
      "outputs": [
        {
          "data": {
            "text/plain": [
              "Index(['Honda', 'Mazda', 'Lacetti', 'Jaguar', 'Malibu', 'Toyota'], dtype='object', name='Car Model')"
            ]
          },
          "execution_count": 160,
          "metadata": {},
          "output_type": "execute_result"
        }
      ],
      "source": [
        "salon2.index # indekslar"
      ]
    },
    {
      "cell_type": "code",
      "execution_count": null,
      "id": "3a6fe77b",
      "metadata": {
        "id": "3a6fe77b",
        "outputId": "09019229-b4f5-44da-ce3f-77f4675618e0"
      },
      "outputs": [
        {
          "data": {
            "text/plain": [
              "array([38000., 52000., 20000.,    nan, 40000., 45000.])"
            ]
          },
          "execution_count": 161,
          "metadata": {},
          "output_type": "execute_result"
        }
      ],
      "source": [
        "salon2.values # qiymatlar"
      ]
    },
    {
      "cell_type": "code",
      "execution_count": null,
      "id": "2cebdbaa",
      "metadata": {
        "id": "2cebdbaa",
        "outputId": "877429d8-2180-450d-bfbb-d75dc601896c"
      },
      "outputs": [
        {
          "data": {
            "text/plain": [
              "True"
            ]
          },
          "execution_count": 170,
          "metadata": {},
          "output_type": "execute_result"
        }
      ],
      "source": [
        "salon2.hasnans # NaN qiymatlar bor (True) yo'qligi (False)"
      ]
    },
    {
      "cell_type": "code",
      "execution_count": null,
      "id": "4aa0030c",
      "metadata": {
        "id": "4aa0030c",
        "outputId": "2dfbf2ae-d12d-4510-d857-224011fc8026"
      },
      "outputs": [
        {
          "data": {
            "text/plain": [
              "dtype('float64')"
            ]
          },
          "execution_count": 164,
          "metadata": {},
          "output_type": "execute_result"
        }
      ],
      "source": [
        "salon2.dtype # qiymatlarning ma'lumot turi"
      ]
    },
    {
      "cell_type": "code",
      "execution_count": null,
      "id": "0259d253",
      "metadata": {
        "id": "0259d253",
        "outputId": "3a59021e-2179-4f7e-e2b3-64e0506de77e"
      },
      "outputs": [
        {
          "data": {
            "text/plain": [
              "True"
            ]
          },
          "execution_count": 172,
          "metadata": {},
          "output_type": "execute_result"
        }
      ],
      "source": [
        "salon2.is_unique # qiymatlar takrorlanmas ekanini tekshirish"
      ]
    },
    {
      "cell_type": "code",
      "execution_count": null,
      "id": "6225a021",
      "metadata": {
        "id": "6225a021",
        "outputId": "1dba70f1-b056-46f9-f042-80bfe62ce72a"
      },
      "outputs": [
        {
          "data": {
            "text/plain": [
              "(6,)"
            ]
          },
          "execution_count": 153,
          "metadata": {},
          "output_type": "execute_result"
        }
      ],
      "source": [
        "salon2.shape # Series hajmi"
      ]
    },
    {
      "cell_type": "code",
      "execution_count": null,
      "id": "42ff4fa8",
      "metadata": {
        "scrolled": true,
        "id": "42ff4fa8",
        "outputId": "b38c65a0-ac44-4a94-a3d8-a86f982cfb84"
      },
      "outputs": [
        {
          "data": {
            "text/plain": [
              "6"
            ]
          },
          "execution_count": 154,
          "metadata": {},
          "output_type": "execute_result"
        }
      ],
      "source": [
        "salon2.size # Series hajmi"
      ]
    },
    {
      "cell_type": "code",
      "execution_count": null,
      "id": "abfa7655",
      "metadata": {
        "scrolled": true,
        "id": "abfa7655",
        "outputId": "57bb2ba1-2844-4b20-8247-afb7bafed109"
      },
      "outputs": [
        {
          "data": {
            "text/plain": [
              "20000.0"
            ]
          },
          "execution_count": 168,
          "metadata": {},
          "output_type": "execute_result"
        }
      ],
      "source": [
        "salon2.iloc[2] # ma'lumotlarga indeks tartib raqami bo'yicha murojaat qilish"
      ]
    },
    {
      "cell_type": "code",
      "execution_count": null,
      "id": "57edc208",
      "metadata": {
        "id": "57edc208",
        "outputId": "6fbfe8ed-36a5-4220-d393-2dd03654db73"
      },
      "outputs": [
        {
          "data": {
            "text/plain": [
              "45000.0"
            ]
          },
          "execution_count": 169,
          "metadata": {},
          "output_type": "execute_result"
        }
      ],
      "source": [
        "salon2.iloc[-1]"
      ]
    },
    {
      "cell_type": "code",
      "execution_count": null,
      "id": "f1b022d9",
      "metadata": {
        "id": "f1b022d9",
        "outputId": "1d53adfc-fe06-45d7-a7c7-e2949f5e0be6"
      },
      "outputs": [
        {
          "data": {
            "text/plain": [
              "38000.0"
            ]
          },
          "execution_count": 165,
          "metadata": {},
          "output_type": "execute_result"
        }
      ],
      "source": [
        "salon2['Honda'] # ma'lumotlarga indeks bo'yicha murojaat qilish"
      ]
    },
    {
      "cell_type": "code",
      "execution_count": null,
      "id": "4d0ba654",
      "metadata": {
        "id": "4d0ba654",
        "outputId": "586a9e96-ec5b-42fa-ed7c-1319f1cefc4f"
      },
      "outputs": [
        {
          "data": {
            "text/plain": [
              "45000.0"
            ]
          },
          "execution_count": 166,
          "metadata": {},
          "output_type": "execute_result"
        }
      ],
      "source": [
        "salon2.loc['Toyota'] # ma'lumotlarga indeks bo'yicha murojaat qilish"
      ]
    },
    {
      "cell_type": "code",
      "execution_count": null,
      "id": "67589333",
      "metadata": {
        "id": "67589333",
        "outputId": "ead8a08a-9ab9-4094-df38-5096d2e00299"
      },
      "outputs": [
        {
          "data": {
            "text/plain": [
              "52000.0"
            ]
          },
          "execution_count": 157,
          "metadata": {},
          "output_type": "execute_result"
        }
      ],
      "source": [
        "salon2.max() # max qiymat"
      ]
    },
    {
      "cell_type": "code",
      "execution_count": null,
      "id": "1f221603",
      "metadata": {
        "id": "1f221603",
        "outputId": "b58dd78d-734c-4600-8f56-9cafe54782a8"
      },
      "outputs": [
        {
          "data": {
            "text/plain": [
              "20000.0"
            ]
          },
          "execution_count": 158,
          "metadata": {},
          "output_type": "execute_result"
        }
      ],
      "source": [
        "salon2.min() # min qiymat"
      ]
    },
    {
      "cell_type": "code",
      "execution_count": null,
      "id": "ef0ba978",
      "metadata": {
        "id": "ef0ba978",
        "outputId": "40e8304e-149e-46af-c700-df94189306db"
      },
      "outputs": [
        {
          "data": {
            "text/plain": [
              "39000.0"
            ]
          },
          "execution_count": 173,
          "metadata": {},
          "output_type": "execute_result"
        }
      ],
      "source": [
        "salon2.mean() # o'rtacha qiymat"
      ]
    },
    {
      "cell_type": "markdown",
      "id": "71d61527",
      "metadata": {
        "id": "71d61527"
      },
      "source": [
        "## AMALIYOT"
      ]
    },
    {
      "cell_type": "code",
      "execution_count": null,
      "id": "59a40094",
      "metadata": {
        "id": "59a40094"
      },
      "outputs": [],
      "source": []
    }
  ],
  "metadata": {
    "language_info": {
      "name": "python"
    },
    "colab": {
      "provenance": [],
      "include_colab_link": true
    },
    "kernelspec": {
      "name": "python3",
      "display_name": "Python 3"
    }
  },
  "nbformat": 4,
  "nbformat_minor": 5
}